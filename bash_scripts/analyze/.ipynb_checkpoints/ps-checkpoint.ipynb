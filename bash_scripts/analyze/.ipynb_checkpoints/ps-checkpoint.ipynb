{
 "cells": [
  {
   "cell_type": "code",
   "execution_count": null,
   "metadata": {},
   "outputs": [],
   "source": [
    "import plotly.express as px\n",
    "import plotly.graph_objects as go\n",
    "import plotly.offline as offline\n",
    "import pandas as pd \n",
    "import numpy as np\n",
    "import plotly.io as pio\n",
    "from scipy import stats \n",
    "offline.init_notebook_mode(connected=True)\n",
    "from IPython.display import display\n",
    "from math import ceil\n",
    "\n",
    "\n"
   ]
  },
  {
   "cell_type": "code",
   "execution_count": null,
   "metadata": {},
   "outputs": [],
   "source": [
    "arr=!echo $LOGDIR\n",
    "FOLDER=arr[0]"
   ]
  },
  {
   "cell_type": "code",
   "execution_count": null,
   "metadata": {},
   "outputs": [],
   "source": [
    "#Place / at the end of path\n",
    "folders=[\"/zfs/dicelab/DigitalPlant/results/May_28_21_47_08_node1969\",\"/zfs/dicelab/DigitalPlant/results/May_28_19_59_36_node1969/\"]\n",
    "# pd.set_option('display.max_columns', None)\n"
   ]
  },
  {
   "cell_type": "code",
   "execution_count": null,
   "metadata": {},
   "outputs": [],
   "source": [
    "#FOLDER=\"./\"\n",
    "dataframes = {}\n",
    "for folder in folders:\n",
    "    df= pd.read_csv(folder+'rss.csv')\n",
    "    block = 0\n",
    "    df['block'] = np.nan\n",
    "    for index,row in df.iterrows():\n",
    "        if np.isnan(row['RSS']) and index % 2 == 0:\n",
    "            block = block + 1\n",
    "        row['block'] = block\n",
    "    df = df[df['RSS'].notna()]\n",
    "    dataframes[folder] = df\n",
    "\n",
    "print(dataframes)\n"
   ]
  },
  {
   "cell_type": "code",
   "execution_count": null,
   "metadata": {},
   "outputs": [],
   "source": [
    "!cat {FOLDER}parameters"
   ]
  },
  {
   "cell_type": "code",
   "execution_count": null,
   "metadata": {},
   "outputs": [],
   "source": [
    "#Count, number of messages - first message in every block\n",
    "\n"
   ]
  },
  {
   "cell_type": "code",
   "execution_count": null,
   "metadata": {},
   "outputs": [],
   "source": []
  },
  {
   "cell_type": "code",
   "execution_count": null,
   "metadata": {},
   "outputs": [],
   "source": [
    "df.groupby(['Status']).count()"
   ]
  },
  {
   "cell_type": "code",
   "execution_count": null,
   "metadata": {},
   "outputs": [],
   "source": [
    "df['count'] = df.groupby('deviceNum')['deviceNum'].transform('count')\n",
    "df['count'].describe()\n",
    "num = df.groupby('deviceNum')['deviceNum'].size()[0]\n",
    "print(num)"
   ]
  },
  {
   "cell_type": "code",
   "execution_count": null,
   "metadata": {},
   "outputs": [],
   "source": [
    "totalMessages = df.count()['count']\n",
    "freq = df.groupby(['Latency']).count()['count']  # the count of each latency group\n",
    "rel = freq / totalMessages # Divide that by the total messages to get the relative count\n",
    "cumsum = rel.cumsum() #Cumulative to get the cumualive frequencies\n",
    "fig_cfd = go.Figure()\n",
    "fig_cfd.add_trace(go.Scatter(x=cumsum.index.values, y=cumsum,mode='lines',name='lines'))\n",
    "fig_cfd.update_layout(\n",
    "    title = \"CFD of Latency (ms)\",\n",
    "    xaxis_title = \"Latency (ms)\",\n",
    "    yaxis_title = \"Probability\"\n",
    ")\n",
    "fig_cfd.show()"
   ]
  },
  {
   "cell_type": "code",
   "execution_count": null,
   "metadata": {},
   "outputs": [],
   "source": [
    "fig_rss = go.Figure()\n",
    "\n",
    "group1024 = dataframes[folders[0]].groupby('PID')\n",
    "for title, group in group1024:\n",
    "    fig_rss.add_trace(go.Scatter(\n",
    "        x=group['block'], \n",
    "        y=group['RSS'], \n",
    "        legendgroup=\"1024 devices\",\n",
    "        name=\"1024 devices\",\n",
    "        mode='lines+markers', \n",
    "        marker_color='rgba(152, 0, 0, .8)',\n",
    "        ))\n",
    "    \n",
    "\n",
    "group512 = dataframes[folders[1]].groupby('PID')\n",
    "for title, group in group512:\n",
    "    fig_rss.add_trace(go.Scatter(\n",
    "        x=group['block'],\n",
    "        y=group['RSS'], \n",
    "        legendgroup=\"512 devices\",\n",
    "        name=\"512 devices\",\n",
    "        mode='lines+markers', \n",
    "        marker_color='rgba(0, 152, 0, .8)'),\n",
    "        )\n",
    "    \n",
    "\n",
    "fig_rss.update_layout(\n",
    "    title = \"RSS at 1 second intervals\",\n",
    "    xaxis_title = \"Seconds\",\n",
    "    yaxis_title = \"RSS (bytes)\"\n",
    ")    \n",
    "\n",
    "fig_rss.show()\n",
    "#RED 1024\n",
    "#Green 512"
   ]
  },
  {
   "cell_type": "code",
   "execution_count": null,
   "metadata": {},
   "outputs": [],
   "source": [
    "fig_ts = px.scatter(dataframes, x=\"block\", y=\"RSS\", color=\"PID\", title='RSS', render_mode='webgl')\n",
    "fig_ts.update_traces(line=dict(width=1))\n",
    "fig_ts.update_layout(\n",
    "    showlegend=False,\n",
    "    yaxis_title=\"RSS (bytes)\")\n",
    "fig_ts.show()\n",
    "\n",
    "fig_rss = go.Figure()\n",
    "fig_rss.add(trace())"
   ]
  },
  {
   "cell_type": "code",
   "execution_count": null,
   "metadata": {},
   "outputs": [],
   "source": [
    "hist = px.histogram(df, x=\"Receive Time\", y=\"Latency\", histfunc='avg', title=\"Histogram of Average latencies\")\n",
    "hist.show()"
   ]
  },
  {
   "cell_type": "code",
   "execution_count": null,
   "metadata": {},
   "outputs": [],
   "source": [
    "by_status_fig = px.scatter(df, x=\"Receive Time\", y=\"Latency\", color=\"Status\", title='Time Received vs Latency (ms) Colored by Status')\n",
    "# fig_ts = px.line(df, x=\"Receive Time\", y=\"Latency\", color=\"deviceNum\", title='Time Received vs Latency (ms) Colored by Status', render_mode='webgl')\n",
    "# fig_ts.update_traces(line=dict(width=1))\n",
    "by_status_fig.update_layout(\n",
    "    showlegend=False,\n",
    "    yaxis_title=\"Latency (ms)\")\n",
    "by_status_fig.show()"
   ]
  },
  {
   "cell_type": "code",
   "execution_count": null,
   "metadata": {},
   "outputs": [],
   "source": [
    "boxfig = px.box(df, y=\"Latency\")\n",
    "boxfig.show()"
   ]
  },
  {
   "cell_type": "code",
   "execution_count": null,
   "metadata": {},
   "outputs": [],
   "source": []
  }
 ],
 "metadata": {
  "file_extension": ".py",
  "kernelspec": {
   "display_name": "Python 3",
   "language": "python",
   "name": "python3"
  },
  "language_info": {
   "codemirror_mode": {
    "name": "ipython",
    "version": 3
   },
   "file_extension": ".py",
   "mimetype": "text/x-python",
   "name": "python",
   "nbconvert_exporter": "python",
   "pygments_lexer": "ipython3",
   "version": "3.8.2"
  },
  "mimetype": "text/x-python",
  "name": "python",
  "npconvert_exporter": "python",
  "pygments_lexer": "ipython3",
  "version": 3
 },
 "nbformat": 4,
 "nbformat_minor": 2
}
