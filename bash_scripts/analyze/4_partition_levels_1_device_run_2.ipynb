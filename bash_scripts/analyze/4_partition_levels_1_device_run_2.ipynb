{
 "cells": [
  {
   "cell_type": "code",
   "execution_count": null,
   "metadata": {},
   "outputs": [],
   "source": [
    "import plotly.express as px\n",
    "import plotly.graph_objects as go\n",
    "import plotly.offline as offline\n",
    "import pandas as pd \n",
    "import numpy as np\n",
    "import plotly.io as pio\n",
    "from scipy import stats \n",
    "offline.init_notebook_mode(connected=True)\n",
    "from IPython.display import display\n",
    "from math import ceil\n",
    "\n",
    "\n"
   ]
  },
  {
   "cell_type": "code",
   "execution_count": null,
   "metadata": {},
   "outputs": [],
   "source": [
    "arr=!echo $LOGDIR\n",
    "FOLDER=arr[0]"
   ]
  },
  {
   "cell_type": "code",
   "execution_count": null,
   "metadata": {},
   "outputs": [],
   "source": [
    "#Place / at the end of path\n",
    "\n",
    "#Use paramter0_run/ for IMT=100 and use parameter1_run/ for IMT=10\n",
    "FOLDER=\"/zfs/dicelab/DigitalPlant/results/June_30_02_13_00_node1791_Partition/parameter1_run/\"\n",
    "# pd.set_option('display.max_columns', None)\n"
   ]
  },
  {
   "cell_type": "code",
   "execution_count": null,
   "metadata": {},
   "outputs": [],
   "source": [
    "#FOLDER=\"./\"\n",
    "df = [{\"name\":\"4 Partitions\", \"df\":None, \"color\":'rgba(0, 0, 255, 0.75)'}, {\"name\":\"8 Partitions\", \"df\":None, \"color\":'rgba(255, 0, 0, 0.75)'}, {\"name\":\"16 Partitions\", \"df\":None, \"color\":'rgba(0, 155, 0, 0.75)'}, {\"name\":\"32 Partitions\", \"df\":None, \"color\":'rgba(0, 0, 0, 0.75)'}] \n",
    "\n",
    "params = [\"connection_strings_4.list/\", \"connection_strings_8.list/\", \"connection_strings_16.list/\", \"connection_strings_32.list/\"]\n",
    "\n",
    "for i in range(4):\n",
    "    frame = pd.read_csv(FOLDER+params[i]+'trial0/log0_latencies.csv', na_filter= False)\n",
    "    frame['Receive Time'] = pd.to_datetime(frame['Receive Time'], unit='ms')\n",
    "    frame['Send Time'] = pd.to_datetime(frame['Send Time'], unit='ms')\n",
    "    frame['Latency'] = (frame['Receive Time'] - frame['Send Time']).dt.total_seconds() * 1000\n",
    "    df[i][\"df\"] = frame\n",
    "    \n",
    "    \n",
    "# df = pd.read_csv(FOLDER+'all.csv', na_filter= False)\n",
    "# df = df.sort_values(['deviceNum','Message ID'])\n",
    "\n",
    "# devices = df.groupby('deviceNum')\n",
    "# print(devices)\n",
    "# df['IMT'] =  np.where(df['Message ID']== 0, np.nan, df['Send Time']- df['Send Time'].shift(1))\n",
    "\n",
    "\n",
    "display(df)"
   ]
  },
  {
   "cell_type": "code",
   "execution_count": null,
   "metadata": {},
   "outputs": [],
   "source": [
    "!cat {FOLDER}parameter*"
   ]
  },
  {
   "cell_type": "code",
   "execution_count": null,
   "metadata": {},
   "outputs": [],
   "source": [
    "for frame in df:\n",
    "    print(frame[\"df\"].groupby(['Status']).count())\n",
    "\n",
    "# df.groupby(['Status']).count()"
   ]
  },
  {
   "cell_type": "code",
   "execution_count": null,
   "metadata": {},
   "outputs": [],
   "source": [
    "#get rid of the connection message\n",
    "PERCENT_TO_DROP = .05\n",
    "\n",
    "for frame in df:\n",
    "    num_messages = frame[\"df\"].shape[0]\n",
    "    #print(num_messages)\n",
    "    messages_to_drop = int(ceil(num_messages*PERCENT_TO_DROP))\n",
    "    #print(messages_to_drop)\n",
    "    print(\"Original dataframe contained {} messages, with each device sending {}\\nDropping {}%, or {} messages from each side\".format(len(frame[\"df\"]), num_messages, PERCENT_TO_DROP,messages_to_drop))\n",
    "    frame[\"df\"].drop(frame[\"df\"][frame[\"df\"]['Message ID'] < messages_to_drop].index, inplace=True) #0 1 2 3 4\n",
    "    origSend = frame[\"df\"].at[messages_to_drop, \"Send Time\"]\n",
    "    frame[\"df\"][\"Relative Send Time\"] = frame[\"df\"][\"Send Time\"] - origSend\n",
    "    frame[\"df\"]['Relative Send Time'] = frame[\"df\"]['Relative Send Time'].apply(lambda x: float(x.total_seconds())) \n",
    "    frame[\"df\"].count()\n",
    "    print(frame[\"df\"])\n",
    "    \n",
    "    \n",
    "# num_messages = df.groupby('deviceNum')['deviceNum'].size()[0]\n",
    "# messages_to_drop = int(ceil(num_messages*PERCENT_TO_DROP))\n",
    "\n",
    "# print(\"Original dataframe contained {} messages, with each device sending {}\\nDropping {}%, or {} messages from each side\".format(len(df), num_messages, PERCENT_TO_DROP,messages_to_drop))\n",
    "# df.drop(df[df['Message ID'] >= (num_messages - messages_to_drop)].index, inplace=True)\n",
    "# df.drop(df[df['Message ID'] < messages_to_drop].index, inplace=True) #0 1 2 3 4\n",
    "\n",
    "\n",
    "# print()\n"
   ]
  },
  {
   "cell_type": "code",
   "execution_count": null,
   "metadata": {},
   "outputs": [],
   "source": [
    "fig_avg_lat = go.Figure()\n",
    "\n",
    "# for frame in df:\n",
    "for i in range(4):\n",
    "    frame = df[3-i]\n",
    "    # fig = px.histogram(frame, x=\"Relative Send Time\", y=\"Latency\", histfunc='avg')\n",
    "    \n",
    "    bins = np.linspace(frame[\"df\"][\"Relative Send Time\"].min(), frame[\"df\"][\"Relative Send Time\"].max(), 28)\n",
    "    groups = frame[\"df\"].groupby(pd.cut(frame[\"df\"][\"Relative Send Time\"], bins))\n",
    "    \n",
    "    # print(groups.mean().Latency)\n",
    "    \n",
    "    fig_avg_lat.add_trace(go.Scatter(y=groups.mean().Latency, mode='lines', name=frame[\"name\"], marker_color=frame[\"color\"]))\n",
    "    \n",
    "fig_avg_lat.update_layout(\n",
    "    title = \"Average Latency (ms) vs Time (s)\",\n",
    "    xaxis_title = \"Time (s)\",\n",
    "    yaxis_title = \"Average Latency (ms)\"\n",
    ")\n",
    "    \n",
    "fig_avg_lat.show()\n",
    "    \n",
    "#     fig.add_trace(go.Histogram(x=frame[\"Relative Send Time\"], y=frame[\"Latency\"], histfunc='avg', xbins=dict(\n",
    "#                       start='0',\n",
    "#                       end='280',\n",
    "#                       size='5'), \n",
    "#                       autobinx=False))\n",
    "#     # fig.add_trace(go.Histogram(x=))\n",
    "#     fig.update_layout(barmode='overlay')\n",
    "#     fig.update_traces(opacity=1)\n",
    "    \n",
    "# fig.show()"
   ]
  },
  {
   "cell_type": "code",
   "execution_count": null,
   "metadata": {},
   "outputs": [],
   "source": [
    "for frame in df:\n",
    "    print(frame[\"df\"]['Latency'].describe())\n"
   ]
  },
  {
   "cell_type": "code",
   "execution_count": null,
   "metadata": {},
   "outputs": [],
   "source": [
    "fig_box = go.Figure()\n",
    "\n",
    "for frame in df:\n",
    "    fig_box.add_trace(go.Box(y=frame[\"df\"][\"Latency\"], quartilemethod=\"inclusive\", name=frame[\"name\"], marker_color=frame['color'], boxpoints=\"outliers\"))\n",
    "    \n",
    "fig_box.update_layout(\n",
    "    title = \"Latency vs Intermessage Time\",\n",
    "    xaxis_title = \"Intermessage Time\",\n",
    "    yaxis_title = \"Latency (ms)\"\n",
    ")    \n",
    "\n",
    "fig_box.show()"
   ]
  },
  {
   "cell_type": "code",
   "execution_count": null,
   "metadata": {},
   "outputs": [],
   "source": [
    "fig_cfd = go.Figure()\n",
    "\n",
    "for frame in df:\n",
    "    totalMessages = len(frame[\"df\"])\n",
    "    #freq = frame.groupby(['Latency']).count()['count']  # the count of each latency group\n",
    "    freq = frame[\"df\"].groupby(['Latency']).size()\n",
    "    rel = freq / totalMessages # Divide that by the total messages to get the relative count\n",
    "    cumsum = rel.cumsum() #Cumulative to get the cumualive frequencies\n",
    "    fig_cfd.add_trace(go.Scatter(x=cumsum.index.values, y=cumsum, mode='lines', name=frame[\"name\"], marker_color=frame[\"color\"]))\n",
    "\n",
    "fig_cfd.update_layout(\n",
    "    title = \"CFD of Latency (ms)\",\n",
    "    xaxis_title = \"Latency (ms)\",\n",
    "    yaxis_title = \"Probability\"\n",
    ")\n",
    "fig_cfd.show()"
   ]
  },
  {
   "cell_type": "code",
   "execution_count": null,
   "metadata": {},
   "outputs": [],
   "source": [
    "fig_mes_lat = go.Figure()\n",
    "for frame in df:\n",
    "    fig_mes_lat.add_trace(go.Scatter(x=frame[\"df\"][\"Relative Send Time\"], y=frame[\"df\"][\"Latency\"], mode='lines', name=frame[\"name\"], marker_color=frame[\"color\"]))\n",
    "\n",
    "fig_mes_lat.update_layout(\n",
    "    title = \"Message Latency (ms) vs Relative Send Time (s)\",\n",
    "    xaxis_title = \"Relative Send Time (s)\",\n",
    "    yaxis_title = \"Message Latency (ms)\"\n",
    ") \n",
    "    \n",
    "fig_mes_lat.show()\n",
    "\n",
    "\n",
    "# fig_ts = px.scatter(df, x=\"Receive Time\", y=\"Latency\", color=\"deviceNum\", title='Time Received vs Latency (ms) Colored by Device', render_mode='webgl')\n",
    "# fig_ts.update_traces(line=dict(width=1))\n",
    "# fig_ts.update_layout(\n",
    "#     showlegend=False,\n",
    "#     yaxis_title=\"Latency (ms)\")\n",
    "# fig_ts.show()"
   ]
  },
  {
   "cell_type": "code",
   "execution_count": null,
   "metadata": {},
   "outputs": [],
   "source": []
  }
 ],
 "metadata": {
  "file_extension": ".py",
  "kernelspec": {
   "display_name": "Python 3",
   "language": "python",
   "name": "python3"
  },
  "language_info": {
   "codemirror_mode": {
    "name": "ipython",
    "version": 3
   },
   "file_extension": ".py",
   "mimetype": "text/x-python",
   "name": "python",
   "nbconvert_exporter": "python",
   "pygments_lexer": "ipython3",
   "version": "3.8.2"
  },
  "mimetype": "text/x-python",
  "name": "python",
  "npconvert_exporter": "python",
  "pygments_lexer": "ipython3",
  "version": 3
 },
 "nbformat": 4,
 "nbformat_minor": 2
}
