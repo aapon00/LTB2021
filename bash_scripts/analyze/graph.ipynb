{
 "cells": [
  {
   "cell_type": "code",
   "execution_count": 2,
   "metadata": {},
   "outputs": [
    {
     "data": {
      "text/html": [
       "        <script type=\"text/javascript\">\n",
       "        window.PlotlyConfig = {MathJaxConfig: 'local'};\n",
       "        if (window.MathJax) {MathJax.Hub.Config({SVG: {font: \"STIX-Web\"}});}\n",
       "        if (typeof require !== 'undefined') {\n",
       "        require.undef(\"plotly\");\n",
       "        requirejs.config({\n",
       "            paths: {\n",
       "                'plotly': ['https://cdn.plot.ly/plotly-latest.min']\n",
       "            }\n",
       "        });\n",
       "        require(['plotly'], function(Plotly) {\n",
       "            window._Plotly = Plotly;\n",
       "        });\n",
       "        }\n",
       "        </script>\n",
       "        "
      ]
     },
     "metadata": {},
     "output_type": "display_data"
    }
   ],
   "source": [
    "import plotly.express as px\n",
    "import plotly.graph_objects as go\n",
    "import plotly.offline as offline\n",
    "import pandas as pd \n",
    "import numpy as np\n",
    "import plotly.io as pio\n",
    "from scipy import stats \n",
    "offline.init_notebook_mode(connected=True)\n",
    "from IPython.display import display\n",
    "from math import ceil\n",
    "\n",
    "\n"
   ]
  },
  {
   "cell_type": "code",
   "execution_count": 3,
   "metadata": {},
   "outputs": [],
   "source": [
    "arr=!echo $LOGDIR\n",
    "FOLDER=arr[0]"
   ]
  },
  {
   "cell_type": "code",
   "execution_count": 4,
   "metadata": {},
   "outputs": [],
   "source": [
    "#Place / at the end of path\n",
    "FOLDER=\"/zfs/dicelab/DigitalPlant/results/May_27_16_57_49_node1672/\"\n",
    "# pd.set_option('display.max_columns', None)\n"
   ]
  },
  {
   "cell_type": "code",
   "execution_count": 5,
   "metadata": {},
   "outputs": [
    {
     "data": {
      "text/html": [
       "<div>\n",
       "<style scoped>\n",
       "    .dataframe tbody tr th:only-of-type {\n",
       "        vertical-align: middle;\n",
       "    }\n",
       "\n",
       "    .dataframe tbody tr th {\n",
       "        vertical-align: top;\n",
       "    }\n",
       "\n",
       "    .dataframe thead th {\n",
       "        text-align: right;\n",
       "    }\n",
       "</style>\n",
       "<table border=\"1\" class=\"dataframe\">\n",
       "  <thead>\n",
       "    <tr style=\"text-align: right;\">\n",
       "      <th></th>\n",
       "      <th>Message ID</th>\n",
       "      <th>Send Time</th>\n",
       "      <th>Receive Time</th>\n",
       "      <th>Status</th>\n",
       "      <th>deviceNum</th>\n",
       "      <th>IMT</th>\n",
       "      <th>Latency</th>\n",
       "    </tr>\n",
       "  </thead>\n",
       "  <tbody>\n",
       "    <tr>\n",
       "      <th>0</th>\n",
       "      <td>0</td>\n",
       "      <td>1970-03-05 01:51:11.811</td>\n",
       "      <td>1970-03-05 01:51:12.063</td>\n",
       "      <td>1</td>\n",
       "      <td>0</td>\n",
       "      <td>NaN</td>\n",
       "      <td>252.0</td>\n",
       "    </tr>\n",
       "    <tr>\n",
       "      <th>1</th>\n",
       "      <td>1</td>\n",
       "      <td>1970-03-05 01:51:11.861</td>\n",
       "      <td>1970-03-05 01:51:12.073</td>\n",
       "      <td>1</td>\n",
       "      <td>0</td>\n",
       "      <td>50.0</td>\n",
       "      <td>212.0</td>\n",
       "    </tr>\n",
       "    <tr>\n",
       "      <th>2</th>\n",
       "      <td>2</td>\n",
       "      <td>1970-03-05 01:51:11.942</td>\n",
       "      <td>1970-03-05 01:51:12.088</td>\n",
       "      <td>1</td>\n",
       "      <td>0</td>\n",
       "      <td>81.0</td>\n",
       "      <td>146.0</td>\n",
       "    </tr>\n",
       "    <tr>\n",
       "      <th>3</th>\n",
       "      <td>3</td>\n",
       "      <td>1970-03-05 01:51:11.994</td>\n",
       "      <td>1970-03-05 01:51:12.106</td>\n",
       "      <td>1</td>\n",
       "      <td>0</td>\n",
       "      <td>52.0</td>\n",
       "      <td>112.0</td>\n",
       "    </tr>\n",
       "    <tr>\n",
       "      <th>4</th>\n",
       "      <td>4</td>\n",
       "      <td>1970-03-05 01:51:12.044</td>\n",
       "      <td>1970-03-05 01:51:12.117</td>\n",
       "      <td>1</td>\n",
       "      <td>0</td>\n",
       "      <td>50.0</td>\n",
       "      <td>73.0</td>\n",
       "    </tr>\n",
       "    <tr>\n",
       "      <th>...</th>\n",
       "      <td>...</td>\n",
       "      <td>...</td>\n",
       "      <td>...</td>\n",
       "      <td>...</td>\n",
       "      <td>...</td>\n",
       "      <td>...</td>\n",
       "      <td>...</td>\n",
       "    </tr>\n",
       "    <tr>\n",
       "      <th>80995</th>\n",
       "      <td>2995</td>\n",
       "      <td>1970-03-05 01:53:45.667</td>\n",
       "      <td>1970-03-05 01:53:48.439</td>\n",
       "      <td>0</td>\n",
       "      <td>1023</td>\n",
       "      <td>51.0</td>\n",
       "      <td>2772.0</td>\n",
       "    </tr>\n",
       "    <tr>\n",
       "      <th>80996</th>\n",
       "      <td>2996</td>\n",
       "      <td>1970-03-05 01:53:45.717</td>\n",
       "      <td>1970-03-05 01:53:48.439</td>\n",
       "      <td>0</td>\n",
       "      <td>1023</td>\n",
       "      <td>50.0</td>\n",
       "      <td>2722.0</td>\n",
       "    </tr>\n",
       "    <tr>\n",
       "      <th>80997</th>\n",
       "      <td>2997</td>\n",
       "      <td>1970-03-05 01:53:45.767</td>\n",
       "      <td>1970-03-05 01:53:48.439</td>\n",
       "      <td>0</td>\n",
       "      <td>1023</td>\n",
       "      <td>50.0</td>\n",
       "      <td>2672.0</td>\n",
       "    </tr>\n",
       "    <tr>\n",
       "      <th>80998</th>\n",
       "      <td>2998</td>\n",
       "      <td>1970-03-05 01:53:45.817</td>\n",
       "      <td>1970-03-05 01:53:48.439</td>\n",
       "      <td>0</td>\n",
       "      <td>1023</td>\n",
       "      <td>50.0</td>\n",
       "      <td>2622.0</td>\n",
       "    </tr>\n",
       "    <tr>\n",
       "      <th>80999</th>\n",
       "      <td>2999</td>\n",
       "      <td>1970-03-05 01:53:45.867</td>\n",
       "      <td>1970-03-05 01:53:48.439</td>\n",
       "      <td>0</td>\n",
       "      <td>1023</td>\n",
       "      <td>50.0</td>\n",
       "      <td>2572.0</td>\n",
       "    </tr>\n",
       "  </tbody>\n",
       "</table>\n",
       "<p>3049728 rows × 7 columns</p>\n",
       "</div>"
      ],
      "text/plain": [
       "       Message ID               Send Time            Receive Time  Status  \\\n",
       "0               0 1970-03-05 01:51:11.811 1970-03-05 01:51:12.063       1   \n",
       "1               1 1970-03-05 01:51:11.861 1970-03-05 01:51:12.073       1   \n",
       "2               2 1970-03-05 01:51:11.942 1970-03-05 01:51:12.088       1   \n",
       "3               3 1970-03-05 01:51:11.994 1970-03-05 01:51:12.106       1   \n",
       "4               4 1970-03-05 01:51:12.044 1970-03-05 01:51:12.117       1   \n",
       "...           ...                     ...                     ...     ...   \n",
       "80995        2995 1970-03-05 01:53:45.667 1970-03-05 01:53:48.439       0   \n",
       "80996        2996 1970-03-05 01:53:45.717 1970-03-05 01:53:48.439       0   \n",
       "80997        2997 1970-03-05 01:53:45.767 1970-03-05 01:53:48.439       0   \n",
       "80998        2998 1970-03-05 01:53:45.817 1970-03-05 01:53:48.439       0   \n",
       "80999        2999 1970-03-05 01:53:45.867 1970-03-05 01:53:48.439       0   \n",
       "\n",
       "       deviceNum   IMT  Latency  \n",
       "0              0   NaN    252.0  \n",
       "1              0  50.0    212.0  \n",
       "2              0  81.0    146.0  \n",
       "3              0  52.0    112.0  \n",
       "4              0  50.0     73.0  \n",
       "...          ...   ...      ...  \n",
       "80995       1023  51.0   2772.0  \n",
       "80996       1023  50.0   2722.0  \n",
       "80997       1023  50.0   2672.0  \n",
       "80998       1023  50.0   2622.0  \n",
       "80999       1023  50.0   2572.0  \n",
       "\n",
       "[3049728 rows x 7 columns]"
      ]
     },
     "metadata": {},
     "output_type": "display_data"
    }
   ],
   "source": [
    "#FOLDER=\"./\"\n",
    "df = pd.read_csv(FOLDER+'all.csv', na_filter= False)\n",
    "df = df.sort_values(['deviceNum','Message ID'])\n",
    "\n",
    "# devices = df.groupby('deviceNum')\n",
    "# print(devices)\n",
    "df['IMT'] =  np.where(df['Message ID']== 0, np.nan, df['Send Time']- df['Send Time'].shift(1))\n",
    "\n",
    "\n",
    "df['Receive Time'] = pd.to_datetime(df['Receive Time'], unit='ms')\n",
    "df['Send Time'] = pd.to_datetime(df['Send Time'], unit='ms')\n",
    "df['Latency'] = (df['Receive Time'] - df['Send Time']).dt.total_seconds() * 1000\n",
    "# df['Latency'] = (df['Latency'].dt.total_seconds() * 1000)\n",
    "display(df)"
   ]
  },
  {
   "cell_type": "code",
   "execution_count": null,
   "metadata": {},
   "outputs": [],
   "source": [
    "!cat {FOLDER}parameters"
   ]
  },
  {
   "cell_type": "code",
   "execution_count": null,
   "metadata": {},
   "outputs": [],
   "source": [
    "#Count, number of messages - first message in every block\n",
    "\n"
   ]
  },
  {
   "cell_type": "code",
   "execution_count": null,
   "metadata": {},
   "outputs": [],
   "source": []
  },
  {
   "cell_type": "code",
   "execution_count": null,
   "metadata": {},
   "outputs": [],
   "source": [
    "df.groupby(['Status']).count()"
   ]
  },
  {
   "cell_type": "code",
   "execution_count": null,
   "metadata": {},
   "outputs": [],
   "source": [
    "df['count'] = df.groupby('deviceNum')['deviceNum'].transform('count')\n",
    "df['count'].describe()\n",
    "num = df.groupby('deviceNum')['deviceNum'].size()[0]\n",
    "print(num)"
   ]
  },
  {
   "cell_type": "code",
   "execution_count": null,
   "metadata": {},
   "outputs": [],
   "source": [
    "#get rid of the connection message\n",
    "PERCENT_TO_DROP = .05\n",
    "\n",
    "num_messages = df.groupby('deviceNum')['deviceNum'].size()[0]\n",
    "messages_to_drop = int(ceil(num_messages*PERCENT_TO_DROP))\n",
    "\n",
    "print(\"Original dataframe contained {} messages, with each device sending {}\\nDropping {}%, or {} messages from each side\".format(len(df), num_messages, PERCENT_TO_DROP,messages_to_drop))\n",
    "df.drop(df[df['Message ID'] >= (num_messages - messages_to_drop)].index, inplace=True)\n",
    "df.drop(df[df['Message ID'] < messages_to_drop].index, inplace=True) #0 1 2 3 4\n",
    "\n",
    "\n",
    "print()\n",
    "# df.count()"
   ]
  },
  {
   "cell_type": "code",
   "execution_count": null,
   "metadata": {},
   "outputs": [],
   "source": [
    "# fig = px.line(df, x=\"Message ID\", y=\"Latency\", color=\"deviceNum\" ,title='Latency', render_mode='webgl')\n",
    "# fig.update_traces(line=dict(width=1))\n",
    "# fig.update_layout(showlegend=False)\n",
    "# fig.show()\n",
    "df['IMT'].describe()"
   ]
  },
  {
   "cell_type": "code",
   "execution_count": null,
   "metadata": {},
   "outputs": [],
   "source": [
    "df['Latency'].describe()"
   ]
  },
  {
   "cell_type": "code",
   "execution_count": null,
   "metadata": {},
   "outputs": [],
   "source": [
    "totalMessages = df.count()['count']\n",
    "freq = df.groupby(['Latency']).count()['count']  # the count of each latency group\n",
    "rel = freq / totalMessages # Divide that by the total messages to get the relative count\n",
    "cumsum = rel.cumsum() #Cumulative to get the cumualive frequencies\n",
    "fig_cfd = go.Figure()\n",
    "fig_cfd.add_trace(go.Scatter(x=cumsum.index.values, y=cumsum,mode='lines',name='lines'))\n",
    "fig_cfd.update_layout(\n",
    "    title = \"CFD of Latency (ms)\",\n",
    "    xaxis_title = \"Latency (ms)\",\n",
    "    yaxis_title = \"Probability\"\n",
    ")\n",
    "fig_cfd.show()"
   ]
  },
  {
   "cell_type": "code",
   "execution_count": null,
   "metadata": {},
   "outputs": [],
   "source": [
    "fig_ts = px.scatter(df, x=\"Receive Time\", y=\"Latency\", color=\"deviceNum\", title='Time Received vs Latency (ms) Colored by Device', render_mode='webgl')\n",
    "fig_ts.update_traces(line=dict(width=1))\n",
    "fig_ts.update_layout(\n",
    "    showlegend=False,\n",
    "    yaxis_title=\"Latency (ms)\")\n",
    "fig_ts.show()"
   ]
  },
  {
   "cell_type": "code",
   "execution_count": null,
   "metadata": {},
   "outputs": [],
   "source": [
    "hist = px.histogram(df, x=\"Receive Time\", y=\"Latency\", histfunc='avg', title=\"Histogram of Average latencies\")\n",
    "hist.show()"
   ]
  },
  {
   "cell_type": "code",
   "execution_count": null,
   "metadata": {},
   "outputs": [],
   "source": [
    "by_status_fig = px.scatter(df, x=\"Receive Time\", y=\"Latency\", color=\"Status\", title='Time Received vs Latency (ms) Colored by Status')\n",
    "# fig_ts = px.line(df, x=\"Receive Time\", y=\"Latency\", color=\"deviceNum\", title='Time Received vs Latency (ms) Colored by Status', render_mode='webgl')\n",
    "# fig_ts.update_traces(line=dict(width=1))\n",
    "by_status_fig.update_layout(\n",
    "    showlegend=False,\n",
    "    yaxis_title=\"Latency (ms)\")\n",
    "by_status_fig.show()"
   ]
  },
  {
   "cell_type": "code",
   "execution_count": null,
   "metadata": {},
   "outputs": [],
   "source": [
    "boxfig = px.box(df, y=\"Latency\")\n",
    "boxfig.show()"
   ]
  },
  {
   "cell_type": "code",
   "execution_count": null,
   "metadata": {},
   "outputs": [],
   "source": []
  }
 ],
 "metadata": {
  "file_extension": ".py",
  "kernelspec": {
   "display_name": "Python 3",
   "language": "python",
   "name": "python3"
  },
  "language_info": {
   "codemirror_mode": {
    "name": "ipython",
    "version": 3
   },
   "file_extension": ".py",
   "mimetype": "text/x-python",
   "name": "python",
   "nbconvert_exporter": "python",
   "pygments_lexer": "ipython3",
   "version": "3.8.2"
  },
  "mimetype": "text/x-python",
  "name": "python",
  "npconvert_exporter": "python",
  "pygments_lexer": "ipython3",
  "version": 3
 },
 "nbformat": 4,
 "nbformat_minor": 2
}
