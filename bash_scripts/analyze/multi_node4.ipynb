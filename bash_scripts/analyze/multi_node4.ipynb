{
 "cells": [
  {
   "cell_type": "code",
   "execution_count": null,
   "metadata": {},
   "outputs": [],
   "source": [
    "import plotly.express as px\n",
    "import plotly.graph_objects as go\n",
    "import plotly.offline as offline\n",
    "import pandas as pd \n",
    "import numpy as np\n",
    "import plotly.io as pio\n",
    "import glob\n",
    "from scipy import stats \n",
    "offline.init_notebook_mode(connected=True)\n",
    "from IPython.display import display\n",
    "from math import ceil\n",
    "\n",
    "\n"
   ]
  },
  {
   "cell_type": "code",
   "execution_count": null,
   "metadata": {},
   "outputs": [],
   "source": [
    "arr=!echo $LOGDIR\n",
    "FOLDER=arr[0]"
   ]
  },
  {
   "cell_type": "code",
   "execution_count": null,
   "metadata": {},
   "outputs": [],
   "source": [
    "#Place / at the end of path\n",
    "FOLDER=\"/zfs/dicelab/DigitalPlant/results/July_14_17_11_06_node1126/multi_node4/\""
   ]
  },
  {
   "cell_type": "code",
   "execution_count": null,
   "metadata": {},
   "outputs": [],
   "source": [
    "path = FOLDER\n",
    "\n",
    "nodes = [\"node0029.palmetto.clemson.edu/\", \"node0045.palmetto.clemson.edu/\", \"node0075.palmetto.clemson.edu/\", \"node0228.palmetto.clemson.edu/\"]\n",
    "\n",
    "\n",
    "# Dr. Apon wants all nodes combined into one dataframe\n",
    "\n",
    "all_files = []\n",
    "\n",
    "for node in nodes:\n",
    "    all_files += glob.glob(path + node + \"*.csv\")\n",
    "\n",
    "li = []\n",
    "\n",
    "for filename in all_files:\n",
    "    frame = pd.read_csv(filename, index_col=None, header=0)\n",
    "    li.append(frame)\n",
    "\n",
    "frame = pd.concat(li, axis=0, ignore_index=True)\n",
    "\n",
    "frame['Receive Time'] = pd.to_datetime(frame['Receive Time'], unit='ms')\n",
    "frame['Send Time'] = pd.to_datetime(frame['Send Time'], unit='ms')\n",
    "frame['Latency'] = (frame['Receive Time'] - frame['Send Time']).dt.total_seconds() * 1000\n",
    "\n",
    "display(frame)"
   ]
  },
  {
   "cell_type": "code",
   "execution_count": null,
   "metadata": {},
   "outputs": [],
   "source": [
    "!cat {FOLDER}"
   ]
  },
  {
   "cell_type": "code",
   "execution_count": null,
   "metadata": {},
   "outputs": [],
   "source": [
    "print(frame.groupby(['Status']).count())"
   ]
  },
  {
   "cell_type": "code",
   "execution_count": null,
   "metadata": {},
   "outputs": [],
   "source": [
    "PERCENT_TO_DROP = .05\n",
    "\n",
    "num_messages = frame.shape[0]\n",
    "#print(num_messages)\n",
    "messages_to_drop = 337\n",
    "#print(messages_to_drop)\n",
    "# print(\"Original dataframe contained {} messages, with each device sending {}\\nDropping {}%, or 1,350,000 messages from the front\".format(len(frame), num_messages/1000, PERCENT_TO_DROP,messages_to_drop))\n",
    "frame.drop(frame[frame['Message ID'] < messages_to_drop].index, inplace=True) #0 1 2 3 4\n",
    "origSend = frame.at[messages_to_drop, \"Send Time\"]\n",
    "frame[\"Relative Send Time\"] = frame[\"Send Time\"] - origSend\n",
    "frame['Relative Send Time'] = frame['Relative Send Time'].apply(lambda x: float(x.total_seconds())) \n",
    "frame.count()\n",
    "print(frame)\n",
    "    \n",
    "    "
   ]
  },
  {
   "cell_type": "code",
   "execution_count": null,
   "metadata": {},
   "outputs": [],
   "source": [
    "fig_avg_lat = go.Figure()\n",
    "    \n",
    "bins = np.linspace(frame[\"Relative Send Time\"].min(), frame[\"Relative Send Time\"].max(), 5400)\n",
    "groups = frame.groupby(pd.cut(frame[\"Relative Send Time\"], bins))\n",
    "\n",
    "fig_avg_lat.add_trace(go.Scatter(y=groups.mean().Latency, mode='lines', name=\"Node1\", marker_color=\"#000\"))\n",
    "\n",
    "fig_avg_lat.update_layout(\n",
    "    title = \"Average Latency (ms) vs Time (s)\",\n",
    "    xaxis_title = \"Time (s)\",\n",
    "    yaxis_title = \"Average Latency (ms)\"\n",
    ")\n",
    "    \n",
    "fig_avg_lat.show()"
   ]
  },
  {
   "cell_type": "code",
   "execution_count": null,
   "metadata": {},
   "outputs": [],
   "source": [
    "print(frame['Latency'].describe())\n"
   ]
  },
  {
   "cell_type": "code",
   "execution_count": null,
   "metadata": {},
   "outputs": [],
   "source": [
    "fig_box = go.Figure()\n",
    "\n",
    "fig_box.add_trace(go.Box(y=frame[\"Latency\"], quartilemethod=\"inclusive\", name=\"Node1\", boxpoints=False))\n",
    "    \n",
    "fig_box.update_layout(\n",
    "    title = \"Latency vs Intermessage Time\",\n",
    "    xaxis_title = \"Intermessage Time\",\n",
    "    yaxis_title = \"Latency (ms)\"\n",
    ")    \n",
    "\n",
    "fig_box.show()"
   ]
  },
  {
   "cell_type": "code",
   "execution_count": null,
   "metadata": {},
   "outputs": [],
   "source": [
    "fig_cdf = go.Figure()\n",
    "\n",
    "totalMessages = len(frame)\n",
    "freq = frame.groupby(['Latency']).size()\n",
    "rel = freq / totalMessages # Divide that by the total messages to get the relative count\n",
    "cumsum = rel.cumsum() #Cumulative to get the cumualive frequencies\n",
    "fig_cdf.add_trace(go.Scatter(x=cumsum.index.values, y=cumsum, mode='lines', name=\"Node1\", marker_color=\"#000\"))\n",
    "\n",
    "fig_cdf.update_layout(\n",
    "    title = \"CDF of Latency (ms)\",\n",
    "    xaxis_title = \"Latency (ms)\",\n",
    "    yaxis_title = \"Probability\"\n",
    ")\n",
    "fig_cdf.show()"
   ]
  },
  {
   "cell_type": "code",
   "execution_count": null,
   "metadata": {},
   "outputs": [],
   "source": [
    "fig_mes_lat = go.Figure()\n",
    "\n",
    "fig_mes_lat.add_trace(go.Scatter(x=frame[\"Relative Send Time\"], \n",
    "                                 y=frame[\"Latency\"], \n",
    "                                 name=\"Node1\", \n",
    "                                 line=dict(\n",
    "                                     color='royalblue', \n",
    "                                     width=2\n",
    "                                 )\n",
    "                                )\n",
    "                     )\n",
    "\n",
    "fig_mes_lat.update_layout(\n",
    "    title = \"Message Latency (ms) vs Relative Send Time (s)\",\n",
    "    xaxis_title = \"Relative Send Time (s)\",\n",
    "    yaxis_title = \"Message Latency (ms)\"\n",
    ") \n",
    "    \n",
    "fig_mes_lat.show()"
   ]
  },
  {
   "cell_type": "code",
   "execution_count": null,
   "metadata": {},
   "outputs": [],
   "source": []
  }
 ],
 "metadata": {
  "file_extension": ".py",
  "kernelspec": {
   "display_name": "Python 3",
   "language": "python",
   "name": "python3"
  },
  "language_info": {
   "codemirror_mode": {
    "name": "ipython",
    "version": 3
   },
   "file_extension": ".py",
   "mimetype": "text/x-python",
   "name": "python",
   "nbconvert_exporter": "python",
   "pygments_lexer": "ipython3",
   "version": "3.8.2"
  },
  "mimetype": "text/x-python",
  "name": "python",
  "npconvert_exporter": "python",
  "pygments_lexer": "ipython3",
  "version": 3
 },
 "nbformat": 4,
 "nbformat_minor": 2
}
