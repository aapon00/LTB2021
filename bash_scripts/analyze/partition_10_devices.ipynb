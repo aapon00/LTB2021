{
 "cells": [
  {
   "cell_type": "code",
   "execution_count": 1,
   "metadata": {},
   "outputs": [
    {
     "ename": "ModuleNotFoundError",
     "evalue": "No module named 'plotly'",
     "output_type": "error",
     "traceback": [
      "\u001b[0;31m---------------------------------------------------------------------------\u001b[0m",
      "\u001b[0;31mModuleNotFoundError\u001b[0m                       Traceback (most recent call last)",
      "\u001b[0;32m<ipython-input-1-4e57b0f892ad>\u001b[0m in \u001b[0;36m<module>\u001b[0;34m()\u001b[0m\n\u001b[0;32m----> 1\u001b[0;31m \u001b[0;32mimport\u001b[0m \u001b[0mplotly\u001b[0m\u001b[0;34m.\u001b[0m\u001b[0mexpress\u001b[0m \u001b[0;32mas\u001b[0m \u001b[0mpx\u001b[0m\u001b[0;34m\u001b[0m\u001b[0m\n\u001b[0m\u001b[1;32m      2\u001b[0m \u001b[0;32mimport\u001b[0m \u001b[0mplotly\u001b[0m\u001b[0;34m.\u001b[0m\u001b[0mgraph_objects\u001b[0m \u001b[0;32mas\u001b[0m \u001b[0mgo\u001b[0m\u001b[0;34m\u001b[0m\u001b[0m\n\u001b[1;32m      3\u001b[0m \u001b[0;32mimport\u001b[0m \u001b[0mplotly\u001b[0m\u001b[0;34m.\u001b[0m\u001b[0moffline\u001b[0m \u001b[0;32mas\u001b[0m \u001b[0moffline\u001b[0m\u001b[0;34m\u001b[0m\u001b[0m\n\u001b[1;32m      4\u001b[0m \u001b[0;32mimport\u001b[0m \u001b[0mpandas\u001b[0m \u001b[0;32mas\u001b[0m \u001b[0mpd\u001b[0m\u001b[0;34m\u001b[0m\u001b[0m\n\u001b[1;32m      5\u001b[0m \u001b[0;32mimport\u001b[0m \u001b[0mnumpy\u001b[0m \u001b[0;32mas\u001b[0m \u001b[0mnp\u001b[0m\u001b[0;34m\u001b[0m\u001b[0m\n",
      "\u001b[0;31mModuleNotFoundError\u001b[0m: No module named 'plotly'"
     ]
    }
   ],
   "source": [
    "import plotly.express as px\n",
    "import plotly.graph_objects as go\n",
    "import plotly.offline as offline\n",
    "import pandas as pd \n",
    "import numpy as np\n",
    "import plotly.io as pio\n",
    "import glob\n",
    "from scipy import stats \n",
    "offline.init_notebook_mode(connected=True)\n",
    "from IPython.display import display\n",
    "from math import ceil\n",
    "\n",
    "\n"
   ]
  },
  {
   "cell_type": "code",
   "execution_count": null,
   "metadata": {},
   "outputs": [],
   "source": [
    "arr=!echo $LOGDIR\n",
    "FOLDER=arr[0]"
   ]
  },
  {
   "cell_type": "code",
   "execution_count": null,
   "metadata": {},
   "outputs": [],
   "source": [
    "#Place / at the end of path\n",
    "FOLDER=\"/zfs/dicelab/DigitalPlant/results/June_16_20_51_59_node1839_Partition/\"\n",
    "# pd.set_option('display.max_columns', None)\n"
   ]
  },
  {
   "cell_type": "code",
   "execution_count": null,
   "metadata": {},
   "outputs": [],
   "source": [
    "#FOLDER=\"./\"\n",
    "df = [{\"name\":\"IMT 1000 ms\", \"df\":None, \"color\":'rgba(0, 0, 255, 0.75)'}, {\"name\":\"IMT 100 ms\", \"df\":None, \"color\":'rgba(255, 0, 0, 0.75)'}, {\"name\":\"IMT 10 ms\", \"df\":None, \"color\":'rgba(0, 155, 0, 0.75)'}]\n",
    "params = [\"parameter0_run/\", \"parameter1_run/\", \"parameter2_run/\"]\n",
    "\n",
    "for i in range(3):\n",
    "    path = FOLDER+params[i]+'connection_strings_4.list/trial0'\n",
    "    all_files = glob.glob(path + \"/*.csv\")\n",
    "    li = []\n",
    "    \n",
    "    for filename in all_files:\n",
    "        frame = pd.read_csv(filename, index_col=None, header=0)\n",
    "        li.append(frame)\n",
    "\n",
    "    frame = pd.concat(li, axis=0, ignore_index=True)\n",
    "    \n",
    "    # frame = pd.read_csv(FOLDER+params[i]+'connection_strings_4.list/trial0/log0_latencies.csv', na_filter= False)\n",
    "    \n",
    "    frame['Receive Time'] = pd.to_datetime(frame['Receive Time'], unit='ms')\n",
    "    frame['Send Time'] = pd.to_datetime(frame['Send Time'], unit='ms')\n",
    "    frame['Latency'] = (frame['Receive Time'] - frame['Send Time']).dt.total_seconds() * 1000\n",
    "    df[i][\"df\"] = frame\n",
    "    \n",
    "    \n",
    "# df = pd.read_csv(FOLDER+'all.csv', na_filter= False)\n",
    "# df = df.sort_values(['deviceNum','Message ID'])\n",
    "\n",
    "# devices = df.groupby('deviceNum')\n",
    "# print(devices)\n",
    "# df['IMT'] =  np.where(df['Message ID']== 0, np.nan, df['Send Time']- df['Send Time'].shift(1))\n",
    "\n",
    "\n",
    "display(df)"
   ]
  },
  {
   "cell_type": "code",
   "execution_count": null,
   "metadata": {},
   "outputs": [],
   "source": [
    "!cat {FOLDER}parameter*"
   ]
  },
  {
   "cell_type": "code",
   "execution_count": null,
   "metadata": {},
   "outputs": [],
   "source": [
    "for frame in df:\n",
    "    print(frame[\"df\"].groupby(['Status']).count())\n",
    "\n",
    "# df.groupby(['Status']).count()"
   ]
  },
  {
   "cell_type": "code",
   "execution_count": null,
   "metadata": {},
   "outputs": [],
   "source": [
    "#get rid of the connection message\n",
    "PERCENT_TO_DROP = .05\n",
    "\n",
    "for frame in df:\n",
    "    num_messages = frame[\"df\"].shape[0]\n",
    "    #print(num_messages)\n",
    "    messages_to_drop = int(ceil(num_messages*PERCENT_TO_DROP))\n",
    "    #print(messages_to_drop)\n",
    "    print(\"Original dataframe contained {} messages, with each device sending {}\\nDropping {}%, or {} messages from each side\".format(len(frame[\"df\"]), num_messages, PERCENT_TO_DROP,messages_to_drop))\n",
    "    frame[\"df\"].drop(frame[\"df\"][frame[\"df\"]['Message ID'] < messages_to_drop].index, inplace=True) #0 1 2 3 4\n",
    "    origSend = frame[\"df\"].at[messages_to_drop, \"Send Time\"]\n",
    "    frame[\"df\"][\"Relative Send Time\"] = frame[\"df\"][\"Send Time\"] - origSend\n",
    "    frame[\"df\"]['Relative Send Time'] = frame[\"df\"]['Relative Send Time'].apply(lambda x: float(x.total_seconds())) \n",
    "    frame[\"df\"].count()\n",
    "    print(frame[\"df\"])\n",
    "    \n",
    "    \n",
    "# num_messages = df.groupby('deviceNum')['deviceNum'].size()[0]\n",
    "# messages_to_drop = int(ceil(num_messages*PERCENT_TO_DROP))\n",
    "\n",
    "# print(\"Original dataframe contained {} messages, with each device sending {}\\nDropping {}%, or {} messages from each side\".format(len(df), num_messages, PERCENT_TO_DROP,messages_to_drop))\n",
    "# df.drop(df[df['Message ID'] >= (num_messages - messages_to_drop)].index, inplace=True)\n",
    "# df.drop(df[df['Message ID'] < messages_to_drop].index, inplace=True) #0 1 2 3 4\n",
    "\n",
    "\n",
    "# print()\n"
   ]
  },
  {
   "cell_type": "code",
   "execution_count": null,
   "metadata": {},
   "outputs": [],
   "source": [
    "fig_avg_lat = go.Figure()\n",
    "\n",
    "# for frame in df:\n",
    "for i in range(3):\n",
    "    frame = df[2-i]\n",
    "    # fig = px.histogram(frame, x=\"Relative Send Time\", y=\"Latency\", histfunc='avg')\n",
    "    \n",
    "    bins = np.linspace(frame[\"df\"][\"Relative Send Time\"].min(), frame[\"df\"][\"Relative Send Time\"].max(), 28)\n",
    "    groups = frame[\"df\"].groupby(pd.cut(frame[\"df\"][\"Relative Send Time\"], bins))\n",
    "    \n",
    "    # print(groups.mean().Latency)\n",
    "    \n",
    "    fig_avg_lat.add_trace(go.Scatter(y=groups.mean().Latency, mode='lines', name=frame[\"name\"], marker_color=frame[\"color\"]))\n",
    "    \n",
    "fig_avg_lat.update_layout(\n",
    "    title = \"Average Latency (ms) vs Time (s)\",\n",
    "    xaxis_title = \"Time (s)\",\n",
    "    yaxis_title = \"Average Latency (ms)\"\n",
    ")\n",
    "    \n",
    "fig_avg_lat.show()\n",
    "    \n",
    "#     fig.add_trace(go.Histogram(x=frame[\"Relative Send Time\"], y=frame[\"Latency\"], histfunc='avg', xbins=dict(\n",
    "#                       start='0',\n",
    "#                       end='280',\n",
    "#                       size='5'), \n",
    "#                       autobinx=False))\n",
    "#     # fig.add_trace(go.Histogram(x=))\n",
    "#     fig.update_layout(barmode='overlay')\n",
    "#     fig.update_traces(opacity=1)\n",
    "    \n",
    "# fig.show()"
   ]
  },
  {
   "cell_type": "code",
   "execution_count": null,
   "metadata": {},
   "outputs": [],
   "source": [
    "for frame in df:\n",
    "    print(frame[\"df\"]['Latency'].describe())\n"
   ]
  },
  {
   "cell_type": "code",
   "execution_count": null,
   "metadata": {},
   "outputs": [],
   "source": [
    "fig_box = go.Figure()\n",
    "\n",
    "for frame in df:\n",
    "    fig_box.add_trace(go.Box(y=frame[\"df\"][\"Latency\"], quartilemethod=\"inclusive\", name=frame[\"name\"]))\n",
    "    \n",
    "fig_box.update_layout(\n",
    "    title = \"Latency vs Intermessage Time\",\n",
    "    xaxis_title = \"Intermessage Time\",\n",
    "    yaxis_title = \"Latency (ms)\"\n",
    ")    \n",
    "\n",
    "fig_box.show()"
   ]
  },
  {
   "cell_type": "code",
   "execution_count": null,
   "metadata": {},
   "outputs": [],
   "source": [
    "fig_cdf = go.Figure()\n",
    "\n",
    "for frame in df:\n",
    "    totalMessages = len(frame[\"df\"])\n",
    "    #freq = frame.groupby(['Latency']).count()['count']  # the count of each latency group\n",
    "    freq = frame[\"df\"].groupby(['Latency']).size()\n",
    "    rel = freq / totalMessages # Divide that by the total messages to get the relative count\n",
    "    cumsum = rel.cumsum() #Cumulative to get the cumualive frequencies\n",
    "    fig_cdf.add_trace(go.Scatter(x=cumsum.index.values, y=cumsum, mode='lines', name=frame[\"name\"], marker_color=frame[\"color\"]))\n",
    "\n",
    "fig_cdf.update_layout(\n",
    "    title = \"CDF of Latency (ms)\",\n",
    "    xaxis_title = \"Latency (ms)\",\n",
    "    yaxis_title = \"Probability\"\n",
    ")\n",
    "fig_cdf.show()"
   ]
  },
  {
   "cell_type": "code",
   "execution_count": null,
   "metadata": {},
   "outputs": [],
   "source": [
    "fig_mes_lat = go.Figure()\n",
    "for frame in df:\n",
    "    fig_mes_lat.add_trace(go.Scatter(x=frame[\"df\"][\"Relative Send Time\"], y=frame[\"df\"][\"Latency\"], mode='lines', name=frame[\"name\"], marker_color=frame[\"color\"]))\n",
    "\n",
    "fig_mes_lat.update_layout(\n",
    "    title = \"Message Latency (ms) vs Relative Send Time (s)\",\n",
    "    xaxis_title = \"Relative Send Time (s)\",\n",
    "    yaxis_title = \"Message Latency (ms)\"\n",
    ") \n",
    "    \n",
    "fig_mes_lat.show()\n",
    "\n",
    "\n",
    "# fig_ts = px.scatter(df, x=\"Receive Time\", y=\"Latency\", color=\"deviceNum\", title='Time Received vs Latency (ms) Colored by Device', render_mode='webgl')\n",
    "# fig_ts.update_traces(line=dict(width=1))\n",
    "# fig_ts.update_layout(\n",
    "#     showlegend=False,\n",
    "#     yaxis_title=\"Latency (ms)\")\n",
    "# fig_ts.show()"
   ]
  }
 ],
 "metadata": {
  "file_extension": ".py",
  "kernelspec": {
   "display_name": "Python 3 (Anaconda 5.1.0)",
   "language": "python",
   "name": "anaconda3-5.1.0"
  },
  "language_info": {
   "codemirror_mode": {
    "name": "ipython",
    "version": 3
   },
   "file_extension": ".py",
   "mimetype": "text/x-python",
   "name": "python",
   "nbconvert_exporter": "python",
   "pygments_lexer": "ipython3",
   "version": "3.6.4"
  },
  "mimetype": "text/x-python",
  "name": "python",
  "npconvert_exporter": "python",
  "pygments_lexer": "ipython3",
  "version": 3
 },
 "nbformat": 4,
 "nbformat_minor": 4
}
