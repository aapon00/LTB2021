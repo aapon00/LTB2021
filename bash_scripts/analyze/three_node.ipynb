{
 "cells": [
  {
   "cell_type": "code",
   "execution_count": 1,
   "metadata": {},
   "outputs": [
    {
     "data": {
      "text/html": [
       "        <script type=\"text/javascript\">\n",
       "        window.PlotlyConfig = {MathJaxConfig: 'local'};\n",
       "        if (window.MathJax) {MathJax.Hub.Config({SVG: {font: \"STIX-Web\"}});}\n",
       "        if (typeof require !== 'undefined') {\n",
       "        require.undef(\"plotly\");\n",
       "        requirejs.config({\n",
       "            paths: {\n",
       "                'plotly': ['https://cdn.plot.ly/plotly-latest.min']\n",
       "            }\n",
       "        });\n",
       "        require(['plotly'], function(Plotly) {\n",
       "            window._Plotly = Plotly;\n",
       "        });\n",
       "        }\n",
       "        </script>\n",
       "        "
      ]
     },
     "metadata": {},
     "output_type": "display_data"
    }
   ],
   "source": [
    "import plotly.express as px\n",
    "import plotly.graph_objects as go\n",
    "import plotly.offline as offline\n",
    "import pandas as pd \n",
    "import numpy as np\n",
    "import plotly.io as pio\n",
    "from scipy import stats \n",
    "offline.init_notebook_mode(connected=True)\n",
    "from IPython.display import display\n",
    "\n"
   ]
  },
  {
   "cell_type": "code",
   "execution_count": null,
   "metadata": {},
   "outputs": [],
   "source": [
    "arr=!echo $LOGDIR\n",
    "FOLDER=arr[0]"
   ]
  },
  {
   "cell_type": "code",
   "execution_count": 3,
   "metadata": {},
   "outputs": [],
   "source": [
    "#Place / at the end of path\n",
    "FOLDER=\"/zfs/dicelab/DigitalPlant/results/June_04_08_15_24_node1709/connection_strings_tier1.list_run/\"\n",
    "# pd.set_option('display.max_columns', None)\n"
   ]
  },
  {
   "cell_type": "code",
   "execution_count": 2,
   "metadata": {},
   "outputs": [
    {
     "ename": "NameError",
     "evalue": "name 'FOLDER' is not defined",
     "output_type": "error",
     "traceback": [
      "\u001b[0;31m---------------------------------------------------------------------------\u001b[0m",
      "\u001b[0;31mNameError\u001b[0m                                 Traceback (most recent call last)",
      "\u001b[0;32m<ipython-input-2-e524bd1085f4>\u001b[0m in \u001b[0;36m<module>\u001b[0;34m\u001b[0m\n\u001b[1;32m      1\u001b[0m \u001b[0;31m#FOLDER=\"./\"\u001b[0m\u001b[0;34m\u001b[0m\u001b[0;34m\u001b[0m\u001b[0m\n\u001b[0;32m----> 2\u001b[0;31m \u001b[0mdf\u001b[0m \u001b[0;34m=\u001b[0m \u001b[0mpd\u001b[0m\u001b[0;34m.\u001b[0m\u001b[0mread_csv\u001b[0m\u001b[0;34m(\u001b[0m\u001b[0mFOLDER\u001b[0m\u001b[0;34m+\u001b[0m\u001b[0;34m'trial0/all.csv'\u001b[0m\u001b[0;34m,\u001b[0m \u001b[0mna_filter\u001b[0m\u001b[0;34m=\u001b[0m \u001b[0;32mFalse\u001b[0m\u001b[0;34m)\u001b[0m\u001b[0;34m\u001b[0m\u001b[0m\n\u001b[0m\u001b[1;32m      3\u001b[0m \u001b[0;34m\u001b[0m\u001b[0m\n\u001b[1;32m      4\u001b[0m \u001b[0;31m# devices = df.groupby('deviceNum')\u001b[0m\u001b[0;34m\u001b[0m\u001b[0;34m\u001b[0m\u001b[0m\n\u001b[1;32m      5\u001b[0m \u001b[0;31m# print(devices)\u001b[0m\u001b[0;34m\u001b[0m\u001b[0;34m\u001b[0m\u001b[0m\n",
      "\u001b[0;31mNameError\u001b[0m: name 'FOLDER' is not defined"
     ]
    }
   ],
   "source": [
    "#FOLDER=\"./\"\n",
    "df = pd.read_csv(FOLDER+'trial0/all.csv', na_filter= False)\n",
    "\n",
    "# devices = df.groupby('deviceNum')\n",
    "# print(devices)\n",
    "df['IMT'] =  np.where(df['Message ID']== 0, np.nan, df['Send Time']- df['Send Time'].shift(1))\n",
    "\n",
    "\n",
    "df['Receive Time'] = pd.to_datetime(df['Receive Time'], unit='ms')\n",
    "df['Send Time'] = pd.to_datetime(df['Send Time'], unit='ms')\n",
    "df['Latency'] = (df['Receive Time'] - df['Send Time']).dt.total_seconds() * 1000\n",
    "# df['Latency'] = (df['Latency'].dt.total_seconds() * 1000)\n",
    "display(df)"
   ]
  },
  {
   "cell_type": "code",
   "execution_count": null,
   "metadata": {},
   "outputs": [],
   "source": [
    "!cat {FOLDER}parameters"
   ]
  },
  {
   "cell_type": "code",
   "execution_count": null,
   "metadata": {},
   "outputs": [],
   "source": [
    "#Count, number of messages - first message in every block\n",
    "\n",
    "df['IMT'].describe()"
   ]
  },
  {
   "cell_type": "code",
   "execution_count": null,
   "metadata": {},
   "outputs": [],
   "source": []
  },
  {
   "cell_type": "code",
   "execution_count": null,
   "metadata": {},
   "outputs": [],
   "source": [
    "df.groupby(['Status']).count()"
   ]
  },
  {
   "cell_type": "code",
   "execution_count": null,
   "metadata": {},
   "outputs": [],
   "source": [
    "df['count'] = df.groupby('deviceNum')['deviceNum'].transform('count')\n",
    "df['count'].describe()"
   ]
  },
  {
   "cell_type": "code",
   "execution_count": null,
   "metadata": {},
   "outputs": [],
   "source": [
    "#get rid of the connection message\n",
    "df.drop(df[df['Message ID'] < 10].index, inplace=True)\n",
    "df['IMT'].describe()\n",
    "# df.count()"
   ]
  },
  {
   "cell_type": "code",
   "execution_count": null,
   "metadata": {},
   "outputs": [],
   "source": [
    "# fig = px.line(df, x=\"Message ID\", y=\"Latency\", color=\"deviceNum\" ,title='Latency', render_mode='webgl')\n",
    "# fig.update_traces(line=dict(width=1))\n",
    "# fig.update_layout(showlegend=False)\n",
    "# fig.show()\n"
   ]
  },
  {
   "cell_type": "code",
   "execution_count": null,
   "metadata": {},
   "outputs": [],
   "source": [
    "df['Latency'].describe()"
   ]
  },
  {
   "cell_type": "code",
   "execution_count": null,
   "metadata": {},
   "outputs": [],
   "source": [
    "totalMessages = df.count()['count']\n",
    "freq = df.groupby(['Latency']).count()['count']  # the count of each latency group\n",
    "rel = freq / totalMessages # Divide that by the total messages to get the relative count\n",
    "cumsum = rel.cumsum() #Cumulative to get the cumualive frequencies\n",
    "fig_cfd = go.Figure()\n",
    "fig_cfd.add_trace(go.Scatter(x=cumsum.index.values, y=cumsum,mode='lines',name='lines'))\n",
    "fig_cfd.update_layout(\n",
    "    title = \"CFD of Latency (ms)\",\n",
    "    xaxis_title = \"Latency (ms)\",\n",
    "    yaxis_title = \"Probability\"\n",
    ")\n",
    "fig_cfd.show()"
   ]
  },
  {
   "cell_type": "code",
   "execution_count": null,
   "metadata": {},
   "outputs": [],
   "source": [
    "fig_ts = px.scatter(df, x=\"Receive Time\", y=\"Latency\", color=\"deviceNum\", title='Time Received vs Latency (ms) Colored by Device', render_mode='webgl')\n",
    "fig_ts.update_traces(line=dict(width=1))\n",
    "fig_ts.update_layout(\n",
    "    showlegend=False,\n",
    "    yaxis_title=\"Latency (ms)\")\n",
    "fig_ts.show()"
   ]
  },
  {
   "cell_type": "code",
   "execution_count": null,
   "metadata": {},
   "outputs": [],
   "source": [
    "hist = px.histogram(df, x=\"Receive Time\", y=\"Latency\", histfunc='avg', title=\"Histogram of Average latencies\")\n",
    "hist.show()"
   ]
  },
  {
   "cell_type": "code",
   "execution_count": null,
   "metadata": {},
   "outputs": [],
   "source": [
    "by_status_fig = px.scatter(df, x=\"Receive Time\", y=\"Latency\", color=\"Status\", title='Time Received vs Latency (ms) Colored by Status')\n",
    "# fig_ts = px.line(df, x=\"Receive Time\", y=\"Latency\", color=\"deviceNum\", title='Time Received vs Latency (ms) Colored by Status', render_mode='webgl')\n",
    "# fig_ts.update_traces(line=dict(width=1))\n",
    "by_status_fig.update_layout(\n",
    "    showlegend=False,\n",
    "    yaxis_title=\"Latency (ms)\")\n",
    "by_status_fig.show()"
   ]
  },
  {
   "cell_type": "code",
   "execution_count": null,
   "metadata": {},
   "outputs": [],
   "source": []
  }
 ],
 "metadata": {
  "file_extension": ".py",
  "kernelspec": {
   "display_name": "Python 3 (Anaconda 5.1.0)",
   "language": "python",
   "name": "anaconda3-5.1.0"
  },
  "language_info": {
   "codemirror_mode": {
    "name": "ipython",
    "version": 3
   },
   "file_extension": ".py",
   "mimetype": "text/x-python",
   "name": "python",
   "nbconvert_exporter": "python",
   "pygments_lexer": "ipython3",
   "version": "3.6.4"
  },
  "mimetype": "text/x-python",
  "name": "python",
  "npconvert_exporter": "python",
  "pygments_lexer": "ipython3",
  "version": 3
 },
 "nbformat": 4,
 "nbformat_minor": 4
}
